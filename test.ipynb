{
 "cells": [
  {
   "cell_type": "code",
   "execution_count": 27,
   "id": "b51a7afe-a177-4deb-a808-16dc7ea41fad",
   "metadata": {},
   "outputs": [],
   "source": [
    "import pandas as pd\n",
    "import dash\n",
    "import calendar\n"
   ]
  },
  {
   "cell_type": "code",
   "execution_count": 28,
   "id": "d78a8cfe-0b75-4a9a-ad88-33124008ac03",
   "metadata": {},
   "outputs": [
    {
     "data": {
      "text/plain": [
       "Unnamed: 0                          1\n",
       "Number                      LR0002545\n",
       "Opened By             Sourabh Upadhye\n",
       "Leave Type    Annual Leave (Full Day)\n",
       "Start Date                 2021-11-08\n",
       "End Date                   2021-11-08\n",
       "Status                      Completed\n",
       "Created           2021-11-02 05:54:16\n",
       "id_521                       UPADHSO1\n",
       "Name: 1, dtype: object"
      ]
     },
     "execution_count": 28,
     "metadata": {},
     "output_type": "execute_result"
    }
   ],
   "source": [
    "df = pd.read_csv(\"sample_output.csv\")\n",
    "df.columns.tolist()[1:]\n",
    "df.loc[1]"
   ]
  },
  {
   "cell_type": "code",
   "execution_count": 30,
   "id": "f3d352bd-1b53-4072-b6d3-108d13c0051b",
   "metadata": {},
   "outputs": [],
   "source": [
    "# Find column that has \"521\" in its name\n",
    "col_521 = [col for col in df.columns if \"521\" in col][0]\n",
    "\n",
    "# Group by that column\n",
    "grouped = df.groupby(col_521)\n",
    "\n",
    "# Example: get group sizes\n",
    "# print(grouped.size())\n"
   ]
  },
  {
   "cell_type": "code",
   "execution_count": 34,
   "id": "9d3c6e78-5f12-48e1-9e29-a8c22ecdc015",
   "metadata": {},
   "outputs": [],
   "source": [
    "import json\n",
    "output_list = []\n",
    "\n",
    "for group_name, group_df in grouped:\n",
    "    # Convert dates\n",
    "    group_df['Start Date'] = pd.to_datetime(group_df['Start Date'])\n",
    "    group_df['End Date'] = pd.to_datetime(group_df['End Date'])\n",
    "    \n",
    "    # Sort by start date\n",
    "    group_df = group_df.sort_values(by='Start Date')\n",
    "    \n",
    "    # Dictionary to store leave dates per (year, month)\n",
    "    month_year_leave_dates = {}\n",
    "    \n",
    "    # Store Full Name for the group\n",
    "    full_name = group_df['Opened By'].iloc[0]\n",
    "    \n",
    "    for _, row in group_df.iterrows():\n",
    "        start = row['Start Date']\n",
    "        end = row['End Date']\n",
    "        all_dates = pd.date_range(start, end)\n",
    "        workdays = all_dates[~all_dates.weekday.isin([5,6])]  # Exclude weekends\n",
    "        \n",
    "        for d in workdays:\n",
    "            key = (d.year, d.month)\n",
    "            if key in month_year_leave_dates:\n",
    "                month_year_leave_dates[key].add(d)\n",
    "            else:\n",
    "                month_year_leave_dates[key] = {d}\n",
    "    \n",
    "    # Create dictionary per month\n",
    "    for (year, month), dates in sorted(month_year_leave_dates.items()):\n",
    "        dates_sorted = sorted(list(dates))\n",
    "        dates_str = [d.strftime(\"%A, %B %d, %Y\") for d in dates_sorted]\n",
    "        month_name = dates_sorted[0].strftime(\"%B\")\n",
    "        \n",
    "        # Calculate total working days in the month\n",
    "        num_days_in_month = calendar.monthrange(year, month)[1]\n",
    "        all_days_in_month = pd.date_range(start=f\"{year}-{month:02d}-01\", end=f\"{year}-{month:02d}-{num_days_in_month}\")\n",
    "        total_working_days = len(all_days_in_month[~all_days_in_month.weekday.isin([5,6])])\n",
    "        \n",
    "        output_list.append({\n",
    "            f\"{col_521}\": group_name,\n",
    "            \"Full Name\": full_name,\n",
    "            \"Month\": month_name,\n",
    "            \"Year\": year,\n",
    "            \"Leave Taken Days\": len(dates_sorted),\n",
    "            \"Dates of Leave\": dates_str,\n",
    "            \"Total Working Days\": total_working_days\n",
    "        })\n",
    "\n",
    "# Save to JSON\n",
    "with open(\"leave_summary.json\", \"w\") as f:\n",
    "    json.dump(output_list, f, indent=4)"
   ]
  },
  {
   "cell_type": "code",
   "execution_count": null,
   "id": "005622ba-3e4f-461b-9cc8-7276d435ff2f",
   "metadata": {},
   "outputs": [],
   "source": []
  }
 ],
 "metadata": {
  "kernelspec": {
   "display_name": "Python 3 (ipykernel)",
   "language": "python",
   "name": "python3"
  },
  "language_info": {
   "codemirror_mode": {
    "name": "ipython",
    "version": 3
   },
   "file_extension": ".py",
   "mimetype": "text/x-python",
   "name": "python",
   "nbconvert_exporter": "python",
   "pygments_lexer": "ipython3",
   "version": "3.11.2"
  }
 },
 "nbformat": 4,
 "nbformat_minor": 5
}
